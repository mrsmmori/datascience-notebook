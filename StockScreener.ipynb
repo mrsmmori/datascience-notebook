{
 "cells": [
  {
   "cell_type": "markdown",
   "metadata": {},
   "source": [
    "# Loding the dataset"
   ]
  },
  {
   "cell_type": "code",
   "execution_count": 1,
   "metadata": {},
   "outputs": [],
   "source": [
    "from IPython.core.interactiveshell import InteractiveShell\n",
    "InteractiveShell.ast_node_interactivity = \"all\"\n",
    "%reload_ext autoreload\n",
    "%autoreload 2\n",
    "\n",
    "# Import Packages\n",
    "import pandas as pd\n",
    "pd.options.display.max_rows = 30\n",
    "pd.options.display.notebook_repr_html = False\n",
    "pd.options.display.float_format = '{:.1f}'.format\n",
    "pd.options.display.expand_frame_repr = False\n",
    "import numpy as np"
   ]
  },
  {
   "cell_type": "code",
   "execution_count": 2,
   "metadata": {},
   "outputs": [],
   "source": [
    "df = pd.read_csv(\"StockScreener20201018.csv\")"
   ]
  },
  {
   "cell_type": "code",
   "execution_count": 3,
   "metadata": {},
   "outputs": [
    {
     "data": {
      "text/plain": [
       "  Trading Name Trading Code      RIC  Mkt Cap ($M)  Tot. Rev ($M)  P/E  Yield (%)       Sector  GTI Score  4-wk %Pr. Chg.  13-wk %Pr. Chg.  26-wk %Pr. Chg.  52-wk %Pr. Chg.  Net Profit %  ROE %  Price/CF  Debt/Equity  1-yr %Rev. Chg.  Price/Book Value\n",
       "0      3Cnergy          502  CNER.SI          42.9            0.2  nan        nan  Real Estate       44.0             0.0            -12.5            180.0             75.0      -23588.9  -61.6       nan         69.3            -21.0               0.2"
      ]
     },
     "execution_count": 3,
     "metadata": {},
     "output_type": "execute_result"
    }
   ],
   "source": [
    "df.head(1)"
   ]
  },
  {
   "cell_type": "code",
   "execution_count": 4,
   "metadata": {},
   "outputs": [],
   "source": [
    "df.rename({\"Trading Name\": \"Name\"}, axis=1, inplace=True)\n",
    "df.rename({\"Trading Code\": \"Code\"}, axis=1, inplace=True)\n",
    "df.rename({\"Mkt Cap ($M)\": \"Mkt-Cap\"}, axis=1, inplace=True)\n",
    "df.rename({\"Tot. Rev ($M)\": \"Rev\"}, axis=1, inplace=True)\n",
    "df.rename({\"P/E\": \"PER\"}, axis=1, inplace=True)\n",
    "df.rename({\"Yield (%)\": \"Yield\"}, axis=1, inplace=True)\n",
    "df.rename({\"Sector\": \"Sector\"}, axis=1, inplace=True)\n",
    "df.rename({\"GTI Score\": \"GTI\"}, axis=1, inplace=True)\n",
    "df.rename({\"4-wk %Pr. Chg.\": \"4Chg\"}, axis=1, inplace=True)\n",
    "df.rename({\"13-wk %Pr. Chg.\": \"13Chg\"}, axis=1, inplace=True)\n",
    "df.rename({\"26-wk %Pr. Chg.\": \"26Chg\"}, axis=1, inplace=True)\n",
    "df.rename({\"52-wk %Pr. Chg.\": \"52Chg\"}, axis=1, inplace=True)\n",
    "df.rename({\"Net Profit %\": \"NetProfit\"}, axis=1, inplace=True)\n",
    "df.rename({\"ROE %\": \"ROE\"}, axis=1, inplace=True)\n",
    "df.rename({\"Price/CF\": \"PricePerCF\"}, axis=1, inplace=True)\n",
    "df.rename({\"Debt/Equity\": \"DebtPerEquity\"}, axis=1, inplace=True)\n",
    "df.rename({\"1-yr %Rev. Chg.\": \"RevChange\"}, axis=1, inplace=True)\n",
    "df.rename({\"Price/Book Value\": \"PBR\"}, axis=1, inplace=True)"
   ]
  },
  {
   "cell_type": "raw",
   "metadata": {},
   "source": [
    "# PBR\n",
    "threshold_h = df.PBR.quantile(0.75)\n",
    "threshold_l = df.PBR.quantile(0.25)\n",
    "\n",
    "pd.options.display.notebook_repr_html = False\n",
    "pd.set_option('display.max_rows', 5)\n",
    "df = df[df.PBR.apply(lambda x:x < threshold_h)]\n",
    "df = df[df.PBR.apply(lambda x:x > threshold_l)]\n",
    "df.shape\n",
    "df.PBR.plot(kind=\"hist\", bins= 100);"
   ]
  },
  {
   "cell_type": "code",
   "execution_count": 5,
   "metadata": {},
   "outputs": [
    {
     "data": {
      "text/plain": [
       "Index(['Name', 'Code', 'RIC', 'Mkt-Cap', 'Rev', 'PER', 'Yield', 'Sector',\n",
       "       'GTI', '4Chg', '13Chg', '26Chg', '52Chg', 'NetProfit', 'ROE',\n",
       "       'PricePerCF', 'DebtPerEquity', 'RevChange', 'PBR'],\n",
       "      dtype='object')"
      ]
     },
     "execution_count": 5,
     "metadata": {},
     "output_type": "execute_result"
    }
   ],
   "source": [
    "df.columns"
   ]
  },
  {
   "cell_type": "code",
   "execution_count": 6,
   "metadata": {},
   "outputs": [],
   "source": [
    "Col = ['Name', 'Code', 'Sector', 'RIC', 'Mkt-Cap', 'Rev', 'PER', 'Yield', \n",
    "       'GTI', '4Chg', '13Chg', '26Chg', '52Chg', 'NetProfit', 'ROE',\n",
    "       'PricePerCF', 'DebtPerEquity', 'RevChange', 'PBR']\n",
    "df = df.loc[:, Col]"
   ]
  },
  {
   "cell_type": "code",
   "execution_count": 7,
   "metadata": {},
   "outputs": [
    {
     "data": {
      "text/plain": [
       "                Name Code          Sector      RIC  Mkt-Cap     Rev  PER  Yield  GTI  4Chg  13Chg  26Chg  52Chg  NetProfit  ROE  PricePerCF  DebtPerEquity  RevChange  PBR\n",
       "548              SIA  C6L  Transportation  SIAL.SI  10451.2 15975.9  nan    1.6 94.0   0.3   -5.1  -20.0  -45.7       -1.1 -1.9         5.2           50.1       -2.1  0.9\n",
       "549  SIA Engineering  S59  Transportation  SIAE.SI   1922.2   994.1  9.9    4.7 97.0  -6.0  -12.8   -5.0  -33.7       19.2 12.3         7.2            1.3       -2.6  1.8"
      ]
     },
     "execution_count": 7,
     "metadata": {},
     "output_type": "execute_result"
    }
   ],
   "source": [
    "df[df[\"Name\"].str.contains(\"SIA\")]"
   ]
  },
  {
   "cell_type": "code",
   "execution_count": 8,
   "metadata": {},
   "outputs": [
    {
     "data": {
      "text/plain": [
       "Real Estate                                 123\n",
       "Industrial & Commercial Services             83\n",
       "Industrial Goods                             58\n",
       "Cyclical Consumer Services                   55\n",
       "Energy - Fossil Fuels                        51\n",
       "Technology Equipment                         43\n",
       "Mineral Resources                            36\n",
       "Food & Beverages                             36\n",
       "Healthcare Services                          28\n",
       "Retailers                                    26\n",
       "Transportation                               24\n",
       "Banking & Investment Services                22\n",
       "Cyclical Consumer Products                   20\n",
       "Software & IT Services                       15\n",
       "Automobiles & Auto Parts                     12\n",
       "Applied Resources                            12\n",
       "Chemicals                                     9\n",
       "Utilities                                     9\n",
       "Telecommunications Services                   7\n",
       "Industrial Conglomerates                      5\n",
       "Personal & Household Products & Services      5\n",
       "Insurance                                     4\n",
       "Food & Drug Retailing                         3\n",
       "Holding Companies                             2\n",
       "Collective Investments                        1\n",
       "Renewable Energy                              1\n",
       "Name: Sector, dtype: int64"
      ]
     },
     "execution_count": 8,
     "metadata": {},
     "output_type": "execute_result"
    }
   ],
   "source": [
    "df['Sector'].value_counts()"
   ]
  },
  {
   "cell_type": "markdown",
   "metadata": {},
   "source": [
    "# Utilities "
   ]
  },
  {
   "cell_type": "code",
   "execution_count": 9,
   "metadata": {},
   "outputs": [
    {
     "data": {
      "text/plain": [
       "                   Name  Mkt-Cap\n",
       "338        Kep Infra Tr   2769.7\n",
       "535        Sembcorp Ind   2574.1\n",
       "121    China Everbright   1220.9\n",
       "550    SIIC Environment    495.9\n",
       "291              Hyflux    178.6\n",
       "658           Union Gas     98.4\n",
       "403           Memiontec     45.2\n",
       "475           Pan Asian      7.9\n",
       "509  Renaissance United      6.2"
      ]
     },
     "execution_count": 9,
     "metadata": {},
     "output_type": "execute_result"
    }
   ],
   "source": [
    "df[df['Sector']==\"Utilities\"][['Name', 'Mkt-Cap']].sort_values('Mkt-Cap', ascending=False)"
   ]
  },
  {
   "cell_type": "code",
   "execution_count": 10,
   "metadata": {},
   "outputs": [
    {
     "data": {
      "text/plain": [
       "                        338           535               121               550      291        658        403\n",
       "Name           Kep Infra Tr  Sembcorp Ind  China Everbright  SIIC Environment   Hyflux  Union Gas  Memiontec\n",
       "Code                   A7RU           U96               U9E               BHK      600        1F2        SYM\n",
       "RIC                 KEPL.SI       SCIL.SI           CEWL.SI           SIIC.SI  HYFL.SI    UNIO.SI    MEMI.SI\n",
       "Mkt-Cap              2769.7        2574.1            1220.9             495.9    178.6       98.4       45.2\n",
       "Rev                  1621.6        8290.0             908.6            1151.3    150.2       87.6        NaN\n",
       "PER                    32.3           NaN               4.3               4.2      NaN        8.6        NaN\n",
       "Yield                   6.7           2.1               6.2               5.3      NaN        4.8        0.6\n",
       "GTI                    79.5         118.0              83.0              66.0     38.0       72.0        NaN\n",
       "4Chg                    1.8           8.3              -4.4              -1.6      NaN       22.9       -2.4\n",
       "13Chg                   2.8          60.6              -4.4             -13.6      NaN       45.8       -6.8\n",
       "26Chg                  18.1          78.7               2.4             -15.6      NaN       87.0      -14.6\n",
       "52Chg                   0.9          36.1             -31.8             -22.4      NaN       75.5        NaN\n",
       "NetProfit               3.8          -2.2              16.6              13.6   -756.2       13.1        NaN\n",
       "ROE                     5.2          -1.2               9.3               7.1   -247.2       37.1        NaN\n",
       "PricePerCF             10.8           5.4               7.3               2.2      NaN        5.9        NaN\n",
       "DebtPerEquity         147.1         163.9              97.6             182.1    128.9        0.7        NaN\n",
       "RevChange              51.5           NaN               NaN               5.5    -62.4       31.2        NaN\n",
       "PBR                     1.5           0.3               0.6               0.5      0.3        2.1        NaN"
      ]
     },
     "execution_count": 10,
     "metadata": {},
     "output_type": "execute_result"
    }
   ],
   "source": [
    "df1 = df.iloc[[338, 535, 121, 550, 291, 658, 403]].sort_values('Mkt-Cap', ascending=False)\n",
    "df1.loc[:, df.columns != 'Sector'].T"
   ]
  },
  {
   "cell_type": "markdown",
   "metadata": {},
   "source": [
    "# Chemicals"
   ]
  },
  {
   "cell_type": "code",
   "execution_count": 11,
   "metadata": {},
   "outputs": [
    {
     "data": {
      "text/plain": [
       "                 Name  Mkt-Cap\n",
       "137      ChinaSunsine    389.5\n",
       "328  Jiutian Chemical    116.7\n",
       "524           Samurai     55.0\n",
       "116      Chemical Ind     47.1\n",
       "401          MegaChem     46.7\n",
       "41             AP Oil     23.0\n",
       "610   SunVic Chemical     11.3\n",
       "396        Matex Intl     10.2\n",
       "198     Fabchem China      7.3"
      ]
     },
     "execution_count": 11,
     "metadata": {},
     "output_type": "execute_result"
    }
   ],
   "source": [
    "df[df['Sector']==\"Chemicals\"][['Name', 'Mkt-Cap']].sort_values('Mkt-Cap', ascending=False)"
   ]
  },
  {
   "cell_type": "code",
   "execution_count": 12,
   "metadata": {},
   "outputs": [
    {
     "data": {
      "text/plain": [
       "                        137               328      524           116       401\n",
       "Name           ChinaSunsine  Jiutian Chemical  Samurai  Chemical Ind  MegaChem\n",
       "Code                    QES               C8R      1C3           C05       5DS\n",
       "RIC                 CHSN.SI           JUTN.SI  SAMR.SI       CHEM.SI   MEGA.SI\n",
       "Mkt-Cap               389.5             116.7     55.0          47.1      46.7\n",
       "Rev                   470.6             189.4     20.7          62.2     110.0\n",
       "PER                     9.3               NaN     34.1          14.0      10.1\n",
       "Yield                   2.5               NaN      2.0           2.4       4.3\n",
       "GTI                     NaN              54.0     75.0          46.0      83.0\n",
       "4Chg                   12.9              42.2     -7.4           0.0       0.0\n",
       "13Chg                  12.9             300.0     -5.7          -1.6      52.2\n",
       "26Chg                   6.8             433.3    -29.6          -3.1       9.4\n",
       "52Chg                 -31.3             392.3    -39.8         -12.7       9.4\n",
       "NetProfit               8.8             -24.6      8.0           5.4       4.3\n",
       "ROE                     8.2             -45.6      6.7           2.8       9.3\n",
       "PricePerCF              5.9               NaN     22.4           5.2       7.7\n",
       "DebtPerEquity           0.4              22.3     18.6           0.0      49.9\n",
       "RevChange               NaN             -23.9    -13.1          -9.6      -4.0\n",
       "PBR                     1.2               0.2      4.3           0.5       NaN"
      ]
     },
     "execution_count": 12,
     "metadata": {},
     "output_type": "execute_result"
    }
   ],
   "source": [
    "df1 = df.iloc[[137, 328, 524, 116, 401]].sort_values('Mkt-Cap', ascending=False)\n",
    "df1.loc[:, df.columns != 'Sector'].T"
   ]
  },
  {
   "cell_type": "markdown",
   "metadata": {},
   "source": [
    "# Transportation *"
   ]
  },
  {
   "cell_type": "code",
   "execution_count": 13,
   "metadata": {
    "jupyter": {
     "source_hidden": true
    }
   },
   "outputs": [
    {
     "data": {
      "text/plain": [
       "                 Name  Mkt-Cap\n",
       "548               SIA  10451.2\n",
       "530              SATS   3405.9\n",
       "148     ComfortDelGro   3163.6\n",
       "477         Pan Ocean   2288.0\n",
       "549   SIA Engineering   1922.2\n",
       "566          SingPost   1535.7\n",
       "284     HPH Trust USD   1202.2\n",
       "532       SBS Transit    904.4\n",
       "151      COSCO SHP SG    416.5\n",
       "387     Manhattan Res    164.3\n",
       "218         FSL Trust    132.4\n",
       "153       Courage Inv    116.3\n",
       "175    Duty Free Intl    103.3\n",
       "483      Penguin Intl     95.8\n",
       "523  SamuderaShipping     91.0\n",
       "230               GKE     63.6\n",
       "677     Vibrant Group     62.1\n",
       "393  MarcoPolo Marine     45.8\n",
       "539        Seroja Inv     30.8\n",
       "672          Vallianz     22.9\n",
       "114            Chasen     21.0\n",
       "3        A-Sonic Aero     19.9\n",
       "185      Eneco Energy     16.9\n",
       "565       SingMyanmar      9.5"
      ]
     },
     "execution_count": 13,
     "metadata": {},
     "output_type": "execute_result"
    }
   ],
   "source": [
    "df[df['Sector']==\"Transportation\"][['Name', 'Mkt-Cap']].sort_values('Mkt-Cap', ascending=False)"
   ]
  },
  {
   "cell_type": "code",
   "execution_count": 14,
   "metadata": {
    "jupyter": {
     "source_hidden": true
    }
   },
   "outputs": [
    {
     "data": {
      "text/plain": [
       "                   548      530            148        477              549       566          532\n",
       "Name               SIA     SATS  ComfortDelGro  Pan Ocean  SIA Engineering  SingPost  SBS Transit\n",
       "Code               C6L      S58            C52        AZY              S59       S08          S61\n",
       "RIC            SIAL.SI  SATS.SI        CMDG.SI   PANOx.SI          SIAE.SI   SPOS.SI      SBVV.SI\n",
       "Mkt-Cap        10451.2   3405.9         3163.6     2288.0           1922.2    1535.7        904.4\n",
       "Rev            15975.9   1941.2         3504.3     3023.5            994.1    1313.8       1339.2\n",
       "PER                NaN     20.2           28.1       12.2              9.9      22.0         13.1\n",
       "Yield              1.6      2.0            3.6        NaN              4.7       4.0          4.5\n",
       "GTI               94.0    131.0          110.0       27.0             97.0     111.0        106.0\n",
       "4Chg               0.3      5.9           -1.4       -2.0             -6.0       0.8          3.9\n",
       "13Chg             -5.1      4.1            2.1       -2.0            -12.8     -11.8         -3.3\n",
       "26Chg            -20.0     -1.0           -4.0       -3.9             -5.0      -4.9          3.2\n",
       "52Chg            -45.7    -38.8          -39.9      -24.6            -33.7     -28.6        -28.8\n",
       "NetProfit         -1.1      9.1            4.2        5.7             19.2       7.6          5.2\n",
       "ROE               -1.9     10.3            4.5        5.0             12.3       5.5         13.1\n",
       "PricePerCF         5.2     11.6            5.6        5.3              7.2       9.1          5.2\n",
       "DebtPerEquity     50.1      5.8           32.7       42.9              1.3      18.0         36.1\n",
       "RevChange         -2.1      6.2            NaN       -1.9             -2.6      -0.7          NaN\n",
       "PBR                0.9      3.5            2.2        0.9              1.8       1.4          2.5"
      ]
     },
     "execution_count": 14,
     "metadata": {},
     "output_type": "execute_result"
    }
   ],
   "source": [
    "df1 = df.iloc[[548, 530, 148, 477, 549, 566, 532]].sort_values('Mkt-Cap', ascending=False)\n",
    "df1.loc[:, df.columns != 'Sector'].T"
   ]
  },
  {
   "cell_type": "markdown",
   "metadata": {},
   "source": [
    "# Technology Equipment"
   ]
  },
  {
   "cell_type": "code",
   "execution_count": 15,
   "metadata": {
    "jupyter": {
     "source_hidden": true
    }
   },
   "outputs": [
    {
     "data": {
      "text/plain": [
       "                 Name  Mkt-Cap\n",
       "394      Maruwa Yen1k 119389.8\n",
       "675           Venture   6048.6\n",
       "19                AEM   1000.8\n",
       "656               UMS    547.2\n",
       "703     Yunnan Energy    515.1\n",
       "..                ...      ...\n",
       "8       Accrelist Ltd      9.2\n",
       "1            8Telecom      7.9\n",
       "9    Ace Achieve Info      5.8\n",
       "300        Incredible      3.3\n",
       "486        Plastoform      0.5\n",
       "\n",
       "[43 rows x 2 columns]"
      ]
     },
     "execution_count": 15,
     "metadata": {},
     "output_type": "execute_result"
    }
   ],
   "source": [
    "df[df['Sector']==\"Technology Equipment\"][['Name', 'Mkt-Cap']].sort_values('Mkt-Cap', ascending=False)"
   ]
  },
  {
   "cell_type": "code",
   "execution_count": 16,
   "metadata": {
    "jupyter": {
     "source_hidden": true
    }
   },
   "outputs": [
    {
     "data": {
      "text/plain": [
       "                        394      675     19       656            703\n",
       "Name           Maruwa Yen1k  Venture     AEM      UMS  Yunnan Energy\n",
       "Code                    M12      V03     AWX      558            T43\n",
       "RIC                  5344.T  VENM.SI  AEM.SI  UMSH.SI        1298.HK\n",
       "Mkt-Cap            119389.8   6048.6  1000.8    547.2          515.1\n",
       "Rev                 39830.5   3166.9   446.2    148.5          188.2\n",
       "PER                    20.4     19.4    11.6     13.4            NaN\n",
       "Yield                   0.5      3.6     2.2      4.4            NaN\n",
       "GTI                     NaN     94.0    89.0     66.0           43.0\n",
       "4Chg                    2.0      7.9    -1.1      6.2           -1.6\n",
       "13Chg                  16.8     24.1    16.4     12.7           -4.1\n",
       "26Chg                  45.3     30.3    71.6     31.5          -27.2\n",
       "52Chg                  29.9     30.1   187.3     55.4          -33.2\n",
       "NetProfit              14.6      9.9    19.2     27.5           -6.3\n",
       "ROE                    10.0     12.7    58.7     16.4           -4.3\n",
       "PricePerCF             14.7     17.1    10.7     11.4            NaN\n",
       "DebtPerEquity           0.0      0.7     3.0     27.4           71.8\n",
       "RevChange              -5.7      NaN     NaN     30.5          -61.8\n",
       "PBR                     1.3      2.0     2.6      1.4            3.1"
      ]
     },
     "execution_count": 16,
     "metadata": {},
     "output_type": "execute_result"
    }
   ],
   "source": [
    "df1 = df.iloc[[394, 675, 19, 656, 703]].sort_values('Mkt-Cap', ascending=False)\n",
    "df1.loc[:, df.columns != 'Sector'].T"
   ]
  },
  {
   "cell_type": "markdown",
   "metadata": {},
   "source": [
    "# Software & IT Services "
   ]
  },
  {
   "cell_type": "code",
   "execution_count": 17,
   "metadata": {
    "jupyter": {
     "source_hidden": true
    }
   },
   "outputs": [
    {
     "data": {
      "text/plain": [
       "                Name  Mkt-Cap\n",
       "552  Silverlake Axis    768.8\n",
       "159       CSE Global    240.0\n",
       "493         Procurri     88.1\n",
       "615          Synagie     60.6\n",
       "512            Revez     58.6\n",
       "73             Azeus     42.5\n",
       "704  YuuZoo Networks     29.7\n",
       "308       IP Softcom     24.2\n",
       "693       Y Ventures     16.5\n",
       "451        NutryFarm     15.7\n",
       "573        SinoCloud     14.3\n",
       "58    Asiatravel.com     12.6\n",
       "602    StratechGroup     10.3\n",
       "450   Ntegrator Intl      8.5\n",
       "487     PlatoCapital      8.2"
      ]
     },
     "execution_count": 17,
     "metadata": {},
     "output_type": "execute_result"
    }
   ],
   "source": [
    "df[df['Sector']==\"Software & IT Services\"][['Name', 'Mkt-Cap']].sort_values('Mkt-Cap', ascending=False)"
   ]
  },
  {
   "cell_type": "code",
   "execution_count": 18,
   "metadata": {
    "jupyter": {
     "source_hidden": true
    }
   },
   "outputs": [
    {
     "data": {
      "text/plain": [
       "                           552         159       493      615\n",
       "Name           Silverlake Axis  CSE Global  Procurri  Synagie\n",
       "Code                       5CP         544       BVQ      V2Y\n",
       "RIC                    SLVX.SI     CSES.SI   PROC.SI  SYNA.SI\n",
       "Mkt-Cap                  768.8       240.0      88.1     60.6\n",
       "Rev                      217.4       523.6     223.0     48.7\n",
       "PER                       12.4         8.4      26.0      NaN\n",
       "Yield                      3.3         5.9       NaN      NaN\n",
       "GTI                       79.0        78.0      59.0     70.0\n",
       "4Chg                      -6.6        -4.1     -11.8     -7.9\n",
       "13Chg                     18.8         1.1       3.5     10.6\n",
       "26Chg                      7.5        17.7      13.2    106.2\n",
       "52Chg                    -33.7        -1.1     -17.8     51.6\n",
       "NetProfit                 27.8         5.4       1.5     -1.2\n",
       "ROE                       27.6        16.0       7.1     -8.1\n",
       "PricePerCF                10.7         5.3       6.5    146.7\n",
       "DebtPerEquity             12.6        29.0      66.3      0.0\n",
       "RevChange                 -2.4         NaN       NaN    167.7\n",
       "PBR                        7.3         1.5       2.1      8.8"
      ]
     },
     "execution_count": 18,
     "metadata": {},
     "output_type": "execute_result"
    }
   ],
   "source": [
    "df1 = df.iloc[[552, 159, 493, 615]].sort_values('Mkt-Cap', ascending=False)\n",
    "df1.loc[:, df.columns != 'Sector'].T"
   ]
  },
  {
   "cell_type": "markdown",
   "metadata": {},
   "source": [
    "# Industrial & Commercial Services "
   ]
  },
  {
   "cell_type": "code",
   "execution_count": 19,
   "metadata": {
    "jupyter": {
     "source_hidden": true
    }
   },
   "outputs": [
    {
     "data": {
      "text/plain": [
       "                 Name  Mkt-Cap\n",
       "707  Zheneng Jinjiang    998.8\n",
       "679         VICOM Ltd    719.8\n",
       "286        HRnetGroup    470.3\n",
       "90           Boustead    347.5\n",
       "378     Low Keng Huat    302.9\n",
       "..                ...      ...\n",
       "422          MS Hldgs      6.1\n",
       "10   Acesian Partners      5.5\n",
       "419     MMP Resources      4.7\n",
       "243       Green Build      3.7\n",
       "54        Asian Micro      3.2\n",
       "\n",
       "[83 rows x 2 columns]"
      ]
     },
     "execution_count": 19,
     "metadata": {},
     "output_type": "execute_result"
    }
   ],
   "source": [
    "df[df['Sector']==\"Industrial & Commercial Services\"][['Name', 'Mkt-Cap']].sort_values('Mkt-Cap', ascending=False)"
   ]
  },
  {
   "cell_type": "code",
   "execution_count": 20,
   "metadata": {
    "jupyter": {
     "source_hidden": true
    }
   },
   "outputs": [
    {
     "data": {
      "text/plain": [
       "                            707        679       90             378\n",
       "Name           Zheneng Jinjiang  VICOM Ltd  Boustead  Low Keng Huat\n",
       "Code                        BWM        WJP       F9D            F1E\n",
       "RIC                     ZHEN.SI    VCOM.SI   BTSS.SI         LKH.SI\n",
       "Mkt-Cap                   998.8      719.8     347.5          302.9\n",
       "Rev                       750.3       92.4     726.6           52.3\n",
       "PER                     13549.5       29.7      11.0            4.7\n",
       "Yield                       NaN        3.0       4.3            3.7\n",
       "GTI                        70.0        NaN      77.0           65.0\n",
       "4Chg                       24.6       -0.5       0.7            3.8\n",
       "13Chg                      31.7       -7.7      -0.7            7.9\n",
       "26Chg                      47.3        4.6      13.0           10.8\n",
       "52Chg                      15.1        5.2     -10.9           -7.9\n",
       "NetProfit                   0.3       26.7       6.1          120.4\n",
       "ROE                         0.0       19.5       9.1            9.5\n",
       "PricePerCF                  9.0       22.6       6.3            4.4\n",
       "DebtPerEquity             129.0       26.4      43.9          121.4\n",
       "RevChange                   NaN        NaN       NaN            NaN\n",
       "PBR                         0.8        4.7       1.2            0.6"
      ]
     },
     "execution_count": 20,
     "metadata": {},
     "output_type": "execute_result"
    }
   ],
   "source": [
    "df1 = df.iloc[[707, 679, 90, 378]].sort_values('Mkt-Cap', ascending=False)\n",
    "df1.loc[:, df.columns != 'Sector'].T"
   ]
  },
  {
   "cell_type": "markdown",
   "metadata": {},
   "source": [
    "# Healthcare Services"
   ]
  },
  {
   "cell_type": "code",
   "execution_count": 21,
   "metadata": {
    "jupyter": {
     "source_hidden": true
    }
   },
   "outputs": [
    {
     "data": {
      "text/plain": [
       "                 Name  Mkt-Cap\n",
       "638         Top Glove  76393.1\n",
       "297               IHH  43374.0\n",
       "517        Riverstone   2884.5\n",
       "504   Raffles Medical   1482.5\n",
       "631   Thomson Medical   1269.2\n",
       "400      Medtecs Intl    724.3\n",
       "654      UGHealthcare    621.1\n",
       "619           TalkMed    566.8\n",
       "498        Q&M Dental    378.3\n",
       "313              ISEC    176.2\n",
       "680      Vicplas Intl    165.3\n",
       "466      OUE Lippo HC    160.0\n",
       "259     Healthway Med    144.7\n",
       "564       SingMedical    120.8\n",
       "560     Singapore O&G    109.8\n",
       "144       Clearbridge     96.3\n",
       "149          Cordlife     93.6\n",
       "53   Asian Healthcare     88.9\n",
       "84          Biolidics     85.8\n",
       "40        Aoxin Q & M     63.1\n",
       "257       HC Surgical     46.2\n",
       "26        Alliance HC     39.1\n",
       "559     Sing Paincare     32.2\n",
       "52          AsiaMedic     24.6\n",
       "501       QT Vascular     20.1\n",
       "438    New Silkroutes     17.4\n",
       "81        Beverly JCG     15.8\n",
       "51          Asia Vets      9.9"
      ]
     },
     "execution_count": 21,
     "metadata": {},
     "output_type": "execute_result"
    }
   ],
   "source": [
    "df[df['Sector']==\"Healthcare Services\"][['Name', 'Mkt-Cap']].sort_values('Mkt-Cap', ascending=False)"
   ]
  },
  {
   "cell_type": "code",
   "execution_count": 22,
   "metadata": {
    "jupyter": {
     "source_hidden": true
    }
   },
   "outputs": [
    {
     "data": {
      "text/plain": [
       "                     638      297         517              504              631           400           654         498               604          564\n",
       "Name           Top Glove      IHH  Riverstone  Raffles Medical  Thomson Medical  Medtecs Intl  UGHealthcare  Q&M Dental  Sunningdale Tech  SingMedical\n",
       "Code                 BVA      Q0F         AP4              BSL              A50           546           8K7         QC7               BHQ          5OT\n",
       "RIC              TPGC.KL  IHHH.KL     RVHL.SI          RAFG.SI          THOS.SI       MTCS.SI       UGHE.SI     QMDT.SI           SUND.SI      SMGL.SI\n",
       "Mkt-Cap          76393.1  43374.0      2884.5           1482.5           1269.2         724.3         621.1       378.3             309.0        120.8\n",
       "Rev               7236.3  13744.7       371.9            508.2            216.1         269.4         144.2       120.5             626.2         89.0\n",
       "PER                 51.2      NaN        42.9             29.3              NaN          13.4          44.6        20.8              18.9         12.1\n",
       "Yield                1.3      0.8         0.8              3.1              NaN           0.9           0.1         6.0               4.2          1.6\n",
       "GTI                  NaN      NaN        73.0             66.0             63.0          55.0           NaN        73.0              77.0         65.0\n",
       "4Chg                17.0     -7.1        14.4             -0.6              0.0          23.4          31.7         2.2               6.6          0.0\n",
       "13Chg               21.9     -7.1        21.2            -14.5            -14.3         111.2          84.8         0.0              61.8         -2.0\n",
       "26Chg              312.1     -5.2       229.7             -8.1            -21.3        1289.5        1342.9        16.1              67.7          8.7\n",
       "52Chg              545.6    -13.8       301.0            -22.1            -18.6        4158.1        1736.4        -7.8              34.2        -19.4\n",
       "NetProfit           26.3     -2.0        18.1              9.6            -45.4          20.0          10.5        15.4               2.6         11.6\n",
       "ROE                 42.3     -1.1        25.4              5.9            -18.8          48.3          28.4        15.6               4.4          7.2\n",
       "PricePerCF          36.1     39.7        34.5             18.1              NaN          11.3          35.4        13.7               5.9          6.1\n",
       "DebtPerEquity       95.4     46.6         2.2             17.7            103.1          62.5          90.6       107.5              34.2         28.5\n",
       "RevChange           50.7      3.4         NaN              NaN              NaN         189.7           NaN         NaN               NaN          NaN\n",
       "PBR                  4.8      2.1         3.0              2.3              2.9           0.2           0.8         3.4               0.7          1.3"
      ]
     },
     "execution_count": 22,
     "metadata": {},
     "output_type": "execute_result"
    }
   ],
   "source": [
    "df1 = df.iloc[[638, 297, 517, 504, 604, 631, 400, 654, 498, 564]].sort_values('Mkt-Cap', ascending=False)\n",
    "df1.loc[:, df.columns != 'Sector'].T"
   ]
  },
  {
   "cell_type": "markdown",
   "metadata": {},
   "source": [
    "# Banking sector"
   ]
  },
  {
   "cell_type": "code",
   "execution_count": 23,
   "metadata": {
    "jupyter": {
     "source_hidden": true
    }
   },
   "outputs": [
    {
     "data": {
      "text/plain": [
       "                   Name   Mkt-Cap\n",
       "447        Nomura Yen1k 1702063.8\n",
       "165                 DBS   54889.3\n",
       "452           OCBC Bank   39121.5\n",
       "665                 UOB   33004.8\n",
       "541                 SGX    9859.1\n",
       "666        UOB Kay Hian    1095.1\n",
       "276      Hong Leong Fin    1020.4\n",
       "295               IFAST     874.1\n",
       "558      Sing Inv & Fin     189.2\n",
       "673            ValueMax     174.6\n",
       "282          Hotung Inv     148.2\n",
       "590       Spura Finance     125.4\n",
       "644          Trendlines      71.1\n",
       "296         IFS Capital      66.9\n",
       "633                 TIH      53.2\n",
       "710          ZICO Hldgs      32.8\n",
       "72               Ayondo      23.9\n",
       "74             B&M Hldg      22.8\n",
       "268           Hiap Tong      18.2\n",
       "507  Reenova Investment      17.3\n",
       "436     Net Pacific Fin      10.5\n",
       "485            Pine Cap       6.6"
      ]
     },
     "execution_count": 23,
     "metadata": {},
     "output_type": "execute_result"
    }
   ],
   "source": [
    "df[df['Sector']==\"Banking & Investment Services\"][['Name', 'Mkt-Cap']].sort_values('Mkt-Cap', ascending=False)"
   ]
  },
  {
   "cell_type": "code",
   "execution_count": 24,
   "metadata": {
    "jupyter": {
     "source_hidden": true
    }
   },
   "outputs": [
    {
     "data": {
      "text/plain": [
       "                   165        452      665\n",
       "Name               DBS  OCBC Bank      UOB\n",
       "Code               D05        O39      U11\n",
       "RIC            DBSM.SI    OCBC.SI  UOBH.SI\n",
       "Mkt-Cap        54889.3    39121.5  33004.8\n",
       "Rev            14670.0    11233.7  11628.8\n",
       "PER               10.0       10.1      9.2\n",
       "Yield              5.3        5.0      4.8\n",
       "GTI              123.0      114.0    113.0\n",
       "4Chg               6.7        2.8      2.0\n",
       "13Chg              0.1       -4.7     -4.7\n",
       "26Chg             10.9       -1.4     -1.2\n",
       "52Chg            -14.2      -19.4    -24.0\n",
       "NetProfit         36.0       14.9     36.4\n",
       "ROE               10.6        8.2      9.1\n",
       "PricePerCF         8.9        8.7      8.0\n",
       "DebtPerEquity    116.5       63.3     82.2\n",
       "RevChange          NaN        NaN     -5.1\n",
       "PBR                1.3        1.1      1.1"
      ]
     },
     "execution_count": 24,
     "metadata": {},
     "output_type": "execute_result"
    }
   ],
   "source": [
    "df1 = df[df['Name'].str.contains(\"dbs|ocbc|uob$\", case=False, regex=True)]\n",
    "df1.loc[:, df.columns != 'Sector'].T"
   ]
  },
  {
   "cell_type": "markdown",
   "metadata": {},
   "source": [
    "# Food & Beverage *"
   ]
  },
  {
   "cell_type": "code",
   "execution_count": 25,
   "metadata": {
    "jupyter": {
     "source_hidden": true
    }
   },
   "outputs": [
    {
     "data": {
      "text/plain": [
       "                Name  Mkt-Cap\n",
       "685      Wilmar Intl  28715.3\n",
       "627          ThaiBev  14553.6\n",
       "459        Olam Intl   4219.6\n",
       "206  First Resources   1964.2\n",
       "236  Golden Agri-Res   1846.3\n",
       "..               ...      ...\n",
       "133  China Star Food     14.9\n",
       "180          Edition     12.6\n",
       "660      United Food      6.6\n",
       "173           Dukang      5.2\n",
       "416    Mirach Energy      1.6\n",
       "\n",
       "[36 rows x 2 columns]"
      ]
     },
     "execution_count": 25,
     "metadata": {},
     "output_type": "execute_result"
    }
   ],
   "source": [
    "df[df['Sector']==\"Food & Beverages\"][['Name', 'Mkt-Cap']].sort_values('Mkt-Cap', ascending=False)"
   ]
  },
  {
   "cell_type": "code",
   "execution_count": 26,
   "metadata": {
    "jupyter": {
     "source_hidden": true
    }
   },
   "outputs": [
    {
     "data": {
      "text/plain": [
       "                       685      627        459              206              236\n",
       "Name           Wilmar Intl  ThaiBev  Olam Intl  First Resources  Golden Agri-Res\n",
       "Code                   F34      Y92        O32              EB5              E5H\n",
       "RIC                WLIL.SI  TBEV.SI    OLAM.SI          FRLD.SI          GAGR.SI\n",
       "Mkt-Cap            28715.3  14553.6     4219.6           1964.2           1846.3\n",
       "Rev                61202.9  11399.1    34129.3            814.8           9038.0\n",
       "PER                   14.6     14.2        6.8             14.0             16.2\n",
       "Yield                  3.0      3.0        6.2              2.2              4.0\n",
       "GTI                   78.0     64.0       95.0             94.0             81.0\n",
       "4Chg                   2.8     -4.1        2.4             -5.3              2.1\n",
       "13Chg                  4.4    -13.4       -3.7            -10.8             -5.9\n",
       "26Chg                 31.3    -16.6       -9.2             -3.1             -8.3\n",
       "52Chg                 26.1    -33.7      -28.7            -20.0            -31.4\n",
       "NetProfit              3.4     10.2        1.8             18.1              1.5\n",
       "ROE                    8.8     18.0        9.4             10.4              2.0\n",
       "PricePerCF             8.6     10.1        3.7              7.9              3.2\n",
       "DebtPerEquity        148.0    178.4      193.9             42.2             74.6\n",
       "RevChange              NaN      1.0        NaN              NaN              NaN\n",
       "PBR                    1.1      4.0        1.0              1.9              0.7"
      ]
     },
     "execution_count": 26,
     "metadata": {},
     "output_type": "execute_result"
    }
   ],
   "source": [
    "df1 = df[df['Name'].str.contains(\"Wilmar|thaiBev|olam|first Resource|golden agri-res\", case=False, regex=True)].sort_values('Mkt-Cap', ascending=False)\n",
    "df1.loc[:, df.columns != 'Sector'].T"
   ]
  },
  {
   "cell_type": "markdown",
   "metadata": {},
   "source": [
    "# Mineral Resources"
   ]
  },
  {
   "cell_type": "code",
   "execution_count": 27,
   "metadata": {
    "jupyter": {
     "source_hidden": true
    }
   },
   "outputs": [
    {
     "data": {
      "text/plain": [
       "                 Name  Mkt-Cap\n",
       "601   Straits Trading    640.7\n",
       "414             Midas    366.2\n",
       "306       Intl Cement    292.5\n",
       "423               MSC    280.0\n",
       "449               NSL    254.0\n",
       "..                ...      ...\n",
       "581         Soon Lian      8.1\n",
       "408   Metal Component      7.9\n",
       "641  Transit Concrete      4.7\n",
       "384     M Development      3.8\n",
       "124       China Haida      1.0\n",
       "\n",
       "[36 rows x 2 columns]"
      ]
     },
     "execution_count": 27,
     "metadata": {},
     "output_type": "execute_result"
    }
   ],
   "source": [
    "df[df['Sector']==\"Mineral Resources\"][['Name', 'Mkt-Cap']].sort_values('Mkt-Cap', ascending=False)"
   ]
  },
  {
   "cell_type": "code",
   "execution_count": 28,
   "metadata": {
    "jupyter": {
     "source_hidden": true
    }
   },
   "outputs": [
    {
     "data": {
      "text/plain": [
       "                           601      414          306\n",
       "Name           Straits Trading    Midas  Intl Cement\n",
       "Code                       S20      5EN          KUO\n",
       "RIC                    STCM.SI  MIDA.SI      INTN.SI\n",
       "Mkt-Cap                  640.7    366.2        292.5\n",
       "Rev                      351.0      NaN        136.3\n",
       "PER                       13.4      NaN         17.2\n",
       "Yield                      3.8      NaN          NaN\n",
       "GTI                       65.0      9.0          NaN\n",
       "4Chg                       3.3      NaN         45.7\n",
       "13Chg                     -0.6      NaN        155.0\n",
       "26Chg                     -7.7      NaN        131.8\n",
       "52Chg                    -23.8      NaN        131.8\n",
       "NetProfit                 16.7      NaN         21.3\n",
       "ROE                        3.2      NaN          8.3\n",
       "PricePerCF                 9.5      NaN          7.7\n",
       "DebtPerEquity             60.3      NaN          4.9\n",
       "RevChange                  NaN      NaN          NaN\n",
       "PBR                        0.6      NaN          1.0"
      ]
     },
     "execution_count": 28,
     "metadata": {},
     "output_type": "execute_result"
    }
   ],
   "source": [
    "df1 = df[df['Name'].str.contains(\"Straits Trading|Midas|Intl Cement\", case=False, regex=True)].sort_values('Mkt-Cap', ascending=False)\n",
    "df1.loc[:, df.columns != 'Sector'].T"
   ]
  },
  {
   "cell_type": "code",
   "execution_count": null,
   "metadata": {},
   "outputs": [],
   "source": []
  },
  {
   "cell_type": "code",
   "execution_count": null,
   "metadata": {},
   "outputs": [],
   "source": []
  },
  {
   "cell_type": "code",
   "execution_count": null,
   "metadata": {},
   "outputs": [],
   "source": []
  },
  {
   "cell_type": "code",
   "execution_count": null,
   "metadata": {},
   "outputs": [],
   "source": []
  }
 ],
 "metadata": {
  "kernelspec": {
   "display_name": "Python 3",
   "language": "python",
   "name": "python3"
  },
  "language_info": {
   "codemirror_mode": {
    "name": "ipython",
    "version": 3
   },
   "file_extension": ".py",
   "mimetype": "text/x-python",
   "name": "python",
   "nbconvert_exporter": "python",
   "pygments_lexer": "ipython3",
   "version": "3.8.6"
  }
 },
 "nbformat": 4,
 "nbformat_minor": 4
}
