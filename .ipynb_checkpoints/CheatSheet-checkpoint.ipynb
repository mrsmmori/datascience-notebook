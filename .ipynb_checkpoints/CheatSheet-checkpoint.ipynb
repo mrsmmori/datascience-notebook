{
 "cells": [
  {
   "cell_type": "raw",
   "metadata": {},
   "source": [
    "# Jupyter setup\n",
    "from IPython.core.interactiveshell import InteractiveShell\n",
    "InteractiveShell.ast_node_interactivity = \"all\"\n",
    "%reload_ext autoreload\n",
    "%autoreload 2"
   ]
  },
  {
   "cell_type": "raw",
   "metadata": {},
   "source": [
    "# Import Packages\n",
    "import pandas as pd\n",
    "pd.options.display.max_rows = 10\n",
    "pd.options.display.notebook_repr_html = False\n",
    "pd.options.display.float_format = '{:.1f}'.format\n",
    "import numpy as np"
   ]
  },
  {
   "cell_type": "raw",
   "metadata": {},
   "source": [
    "# Jupyter Variables\n",
    "# Jupyter variables\n",
    "%whos\n",
    "%whos DataFrame\n",
    "%whos module"
   ]
  },
  {
   "cell_type": "raw",
   "metadata": {},
   "source": [
    "# Google\n",
    "from google.colab import files\n",
    "uploaded = files.upload("
   ]
  },
  {
   "cell_type": "raw",
   "metadata": {},
   "source": [
    "# Kaggle\n",
    "kaggle competitions list\n",
    "kaggle competitions files -c titanic\n",
    "kaggle competitions files -c titanic\n",
    "kaggle competitions download -c titanic\n",
    "kaggle competitions submit -c titanic -f pred.csv -m test\n",
    "kaggle competitions submissions -c titanic"
   ]
  },
  {
   "cell_type": "raw",
   "metadata": {},
   "source": [
    "# Vim Indent Multiple Lines\n",
    "shift + v \n",
    "shift + > "
   ]
  },
  {
   "cell_type": "raw",
   "metadata": {},
   "source": [
    "# Jupyter Shortcut\n",
    "Select multiple cells: Shift + k "
   ]
  },
  {
   "cell_type": "code",
   "execution_count": null,
   "metadata": {},
   "outputs": [],
   "source": []
  }
 ],
 "metadata": {
  "kernelspec": {
   "display_name": "Python 3",
   "language": "python",
   "name": "python3"
  },
  "language_info": {
   "codemirror_mode": {
    "name": "ipython",
    "version": 3
   },
   "file_extension": ".py",
   "mimetype": "text/x-python",
   "name": "python",
   "nbconvert_exporter": "python",
   "pygments_lexer": "ipython3",
   "version": "3.8.6"
  }
 },
 "nbformat": 4,
 "nbformat_minor": 4
}
