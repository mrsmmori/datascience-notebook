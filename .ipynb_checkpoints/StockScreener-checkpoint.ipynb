{
 "cells": [
  {
   "cell_type": "markdown",
   "metadata": {},
   "source": [
    "# Loding the dataset"
   ]
  },
  {
   "cell_type": "code",
   "execution_count": 43,
   "metadata": {},
   "outputs": [],
   "source": [
    "from IPython.core.interactiveshell import InteractiveShell\n",
    "InteractiveShell.ast_node_interactivity = \"all\"\n",
    "%reload_ext autoreload\n",
    "%autoreload 2\n",
    "\n",
    "# Import Packages\n",
    "import pandas as pd\n",
    "pd.options.display.max_rows = 30\n",
    "pd.options.display.notebook_repr_html = False\n",
    "pd.options.display.float_format = '{:.1f}'.format\n",
    "pd.options.display.expand_frame_repr = False\n",
    "import numpy as np"
   ]
  },
  {
   "cell_type": "code",
   "execution_count": 23,
   "metadata": {},
   "outputs": [],
   "source": [
    "df = pd.read_csv(\"StockScreener20201018.csv\")"
   ]
  },
  {
   "cell_type": "code",
   "execution_count": 24,
   "metadata": {},
   "outputs": [
    {
     "data": {
      "text/plain": [
       "  Trading Name Trading Code      RIC  Mkt Cap ($M)  Tot. Rev ($M)  P/E  \\\n",
       "0      3Cnergy          502  CNER.SI          42.9            0.2  nan   \n",
       "\n",
       "   Yield (%)       Sector  GTI Score  4-wk %Pr. Chg.  13-wk %Pr. Chg.  \\\n",
       "0        nan  Real Estate       44.0             0.0            -12.5   \n",
       "\n",
       "   26-wk %Pr. Chg.  52-wk %Pr. Chg.  Net Profit %  ROE %  Price/CF  \\\n",
       "0            180.0             75.0      -23588.9  -61.6       nan   \n",
       "\n",
       "   Debt/Equity  1-yr %Rev. Chg.  Price/Book Value  \n",
       "0         69.3            -21.0               0.2  "
      ]
     },
     "execution_count": 24,
     "metadata": {},
     "output_type": "execute_result"
    }
   ],
   "source": [
    "df.head(1)"
   ]
  },
  {
   "cell_type": "code",
   "execution_count": 25,
   "metadata": {},
   "outputs": [],
   "source": [
    "df.rename({\"Trading Name\": \"Name\"}, axis=1, inplace=True)\n",
    "df.rename({\"Trading Code\": \"Code\"}, axis=1, inplace=True)\n",
    "df.rename({\"Mkt Cap ($M)\": \"Mkt-Cap\"}, axis=1, inplace=True)\n",
    "df.rename({\"Tot. Rev ($M)\": \"Rev\"}, axis=1, inplace=True)\n",
    "df.rename({\"P/E\": \"PER\"}, axis=1, inplace=True)\n",
    "df.rename({\"Yield (%)\": \"Yield\"}, axis=1, inplace=True)\n",
    "df.rename({\"Sector\": \"Sector\"}, axis=1, inplace=True)\n",
    "df.rename({\"GTI Score\": \"GTI\"}, axis=1, inplace=True)\n",
    "df.rename({\"4-wk %Pr. Chg.\": \"4Chg\"}, axis=1, inplace=True)\n",
    "df.rename({\"13-wk %Pr. Chg.\": \"13Chg\"}, axis=1, inplace=True)\n",
    "df.rename({\"26-wk %Pr. Chg.\": \"26Chg\"}, axis=1, inplace=True)\n",
    "df.rename({\"52-wk %Pr. Chg.\": \"52Chg\"}, axis=1, inplace=True)\n",
    "df.rename({\"Net Profit %\": \"NetProfit\"}, axis=1, inplace=True)\n",
    "df.rename({\"ROE %\": \"ROE\"}, axis=1, inplace=True)\n",
    "df.rename({\"Price/CF\": \"PricePerCF\"}, axis=1, inplace=True)\n",
    "df.rename({\"Debt/Equity\": \"DebtPerEquity\"}, axis=1, inplace=True)\n",
    "df.rename({\"1-yr %Rev. Chg.\": \"RevChange\"}, axis=1, inplace=True)\n",
    "df.rename({\"Price/Book Value\": \"PBR\"}, axis=1, inplace=True)"
   ]
  },
  {
   "cell_type": "raw",
   "metadata": {},
   "source": [
    "# PBR\n",
    "threshold_h = df.PBR.quantile(0.75)\n",
    "threshold_l = df.PBR.quantile(0.25)\n",
    "\n",
    "pd.options.display.notebook_repr_html = False\n",
    "pd.set_option('display.max_rows', 5)\n",
    "df = df[df.PBR.apply(lambda x:x < threshold_h)]\n",
    "df = df[df.PBR.apply(lambda x:x > threshold_l)]\n",
    "df.shape\n",
    "df.PBR.plot(kind=\"hist\", bins= 100);"
   ]
  },
  {
   "cell_type": "code",
   "execution_count": 45,
   "metadata": {},
   "outputs": [
    {
     "data": {
      "text/plain": [
       "Index(['Name', 'Code', 'RIC', 'Mkt-Cap', 'Rev', 'PER', 'Yield', 'Sector',\n",
       "       'GTI', '4Chg', '13Chg', '26Chg', '52Chg', 'NetProfit', 'ROE',\n",
       "       'PricePerCF', 'DebtPerEquity', 'RevChange', 'PBR'],\n",
       "      dtype='object')"
      ]
     },
     "execution_count": 45,
     "metadata": {},
     "output_type": "execute_result"
    }
   ],
   "source": [
    "df.columns"
   ]
  },
  {
   "cell_type": "code",
   "execution_count": 48,
   "metadata": {},
   "outputs": [],
   "source": [
    "Col = ['Name', 'Code', 'Sector', 'RIC', 'Mkt-Cap', 'Rev', 'PER', 'Yield', \n",
    "       'GTI', '4Chg', '13Chg', '26Chg', '52Chg', 'NetProfit', 'ROE',\n",
    "       'PricePerCF', 'DebtPerEquity', 'RevChange', 'PBR']\n",
    "df = df.loc[:, Col]"
   ]
  },
  {
   "cell_type": "code",
   "execution_count": 63,
   "metadata": {},
   "outputs": [
    {
     "data": {
      "text/plain": [
       "Real Estate                                 123\n",
       "Industrial & Commercial Services             83\n",
       "Industrial Goods                             58\n",
       "Cyclical Consumer Services                   55\n",
       "Energy - Fossil Fuels                        51\n",
       "Technology Equipment                         43\n",
       "Food & Beverages                             36\n",
       "Mineral Resources                            36\n",
       "Healthcare Services                          28\n",
       "Retailers                                    26\n",
       "Transportation                               24\n",
       "Banking & Investment Services                22\n",
       "Cyclical Consumer Products                   20\n",
       "Software & IT Services                       15\n",
       "Automobiles & Auto Parts                     12\n",
       "Applied Resources                            12\n",
       "Chemicals                                     9\n",
       "Utilities                                     9\n",
       "Telecommunications Services                   7\n",
       "Industrial Conglomerates                      5\n",
       "Personal & Household Products & Services      5\n",
       "Insurance                                     4\n",
       "Food & Drug Retailing                         3\n",
       "Holding Companies                             2\n",
       "Collective Investments                        1\n",
       "Renewable Energy                              1\n",
       "Name: Sector, dtype: int64"
      ]
     },
     "execution_count": 63,
     "metadata": {},
     "output_type": "execute_result"
    }
   ],
   "source": [
    "df['Sector'].value_counts()"
   ]
  },
  {
   "cell_type": "markdown",
   "metadata": {},
   "source": [
    "# Banking sector"
   ]
  },
  {
   "cell_type": "code",
   "execution_count": 69,
   "metadata": {},
   "outputs": [
    {
     "data": {
      "text/plain": [
       "                   Name   Mkt-Cap\n",
       "447        Nomura Yen1k 1702063.8\n",
       "165                 DBS   54889.3\n",
       "452           OCBC Bank   39121.5\n",
       "665                 UOB   33004.8\n",
       "541                 SGX    9859.1\n",
       "666        UOB Kay Hian    1095.1\n",
       "276      Hong Leong Fin    1020.4\n",
       "295               IFAST     874.1\n",
       "558      Sing Inv & Fin     189.2\n",
       "673            ValueMax     174.6\n",
       "282          Hotung Inv     148.2\n",
       "590       Spura Finance     125.4\n",
       "644          Trendlines      71.1\n",
       "296         IFS Capital      66.9\n",
       "633                 TIH      53.2\n",
       "710          ZICO Hldgs      32.8\n",
       "72               Ayondo      23.9\n",
       "74             B&M Hldg      22.8\n",
       "268           Hiap Tong      18.2\n",
       "507  Reenova Investment      17.3\n",
       "436     Net Pacific Fin      10.5\n",
       "485            Pine Cap       6.6"
      ]
     },
     "execution_count": 69,
     "metadata": {},
     "output_type": "execute_result"
    }
   ],
   "source": [
    "df[df['Sector']==\"Banking & Investment Services\"][['Name', 'Mkt-Cap']].sort_values('Mkt-Cap', ascending=False)"
   ]
  },
  {
   "cell_type": "code",
   "execution_count": 58,
   "metadata": {},
   "outputs": [
    {
     "data": {
      "text/plain": [
       "                   165        452      665\n",
       "Name               DBS  OCBC Bank      UOB\n",
       "Code               D05        O39      U11\n",
       "RIC            DBSM.SI    OCBC.SI  UOBH.SI\n",
       "Mkt-Cap        54889.3    39121.5  33004.8\n",
       "Rev            14670.0    11233.7  11628.8\n",
       "PER               10.0       10.1      9.2\n",
       "Yield              5.3        5.0      4.8\n",
       "GTI              123.0      114.0    113.0\n",
       "4Chg               6.7        2.8      2.0\n",
       "13Chg              0.1       -4.7     -4.7\n",
       "26Chg             10.9       -1.4     -1.2\n",
       "52Chg            -14.2      -19.4    -24.0\n",
       "NetProfit         36.0       14.9     36.4\n",
       "ROE               10.6        8.2      9.1\n",
       "PricePerCF         8.9        8.7      8.0\n",
       "DebtPerEquity    116.5       63.3     82.2\n",
       "RevChange          NaN        NaN     -5.1\n",
       "PBR                1.3        1.1      1.1"
      ]
     },
     "execution_count": 58,
     "metadata": {},
     "output_type": "execute_result"
    }
   ],
   "source": [
    "df1 = df[df['Name'].str.contains(\"dbs|ocbc|uob$\", case=False, regex=True)]\n",
    "df1.loc[:, df.columns != 'Sector'].T"
   ]
  },
  {
   "cell_type": "markdown",
   "metadata": {},
   "source": [
    "# Food & Beverage"
   ]
  },
  {
   "cell_type": "code",
   "execution_count": 66,
   "metadata": {},
   "outputs": [
    {
     "data": {
      "text/plain": [
       "                Name  Mkt-Cap\n",
       "685      Wilmar Intl  28715.3\n",
       "627          ThaiBev  14553.6\n",
       "459        Olam Intl   4219.6\n",
       "206  First Resources   1964.2\n",
       "236  Golden Agri-Res   1846.3\n",
       "..               ...      ...\n",
       "133  China Star Food     14.9\n",
       "180          Edition     12.6\n",
       "660      United Food      6.6\n",
       "173           Dukang      5.2\n",
       "416    Mirach Energy      1.6\n",
       "\n",
       "[36 rows x 2 columns]"
      ]
     },
     "execution_count": 66,
     "metadata": {},
     "output_type": "execute_result"
    }
   ],
   "source": [
    "df[df['Sector']==\"Food & Beverages\"][['Name', 'Mkt-Cap']].sort_values('Mkt-Cap', ascending=False)"
   ]
  },
  {
   "cell_type": "code",
   "execution_count": 68,
   "metadata": {},
   "outputs": [
    {
     "data": {
      "text/plain": [
       "                       685      627        459              206              236\n",
       "Name           Wilmar Intl  ThaiBev  Olam Intl  First Resources  Golden Agri-Res\n",
       "Code                   F34      Y92        O32              EB5              E5H\n",
       "RIC                WLIL.SI  TBEV.SI    OLAM.SI          FRLD.SI          GAGR.SI\n",
       "Mkt-Cap            28715.3  14553.6     4219.6           1964.2           1846.3\n",
       "Rev                61202.9  11399.1    34129.3            814.8           9038.0\n",
       "PER                   14.6     14.2        6.8             14.0             16.2\n",
       "Yield                  3.0      3.0        6.2              2.2              4.0\n",
       "GTI                   78.0     64.0       95.0             94.0             81.0\n",
       "4Chg                   2.8     -4.1        2.4             -5.3              2.1\n",
       "13Chg                  4.4    -13.4       -3.7            -10.8             -5.9\n",
       "26Chg                 31.3    -16.6       -9.2             -3.1             -8.3\n",
       "52Chg                 26.1    -33.7      -28.7            -20.0            -31.4\n",
       "NetProfit              3.4     10.2        1.8             18.1              1.5\n",
       "ROE                    8.8     18.0        9.4             10.4              2.0\n",
       "PricePerCF             8.6     10.1        3.7              7.9              3.2\n",
       "DebtPerEquity        148.0    178.4      193.9             42.2             74.6\n",
       "RevChange              NaN      1.0        NaN              NaN              NaN\n",
       "PBR                    1.1      4.0        1.0              1.9              0.7"
      ]
     },
     "execution_count": 68,
     "metadata": {},
     "output_type": "execute_result"
    }
   ],
   "source": [
    "df1 = df[df['Name'].str.contains(\"Wilmar|thaiBev|olam|first Resource|golden agri-res\", case=False, regex=True)].sort_values('Mkt-Cap', ascending=False)\n",
    "df1.loc[:, df.columns != 'Sector'].T"
   ]
  },
  {
   "cell_type": "code",
   "execution_count": null,
   "metadata": {},
   "outputs": [],
   "source": []
  }
 ],
 "metadata": {
  "kernelspec": {
   "display_name": "Python 3",
   "language": "python",
   "name": "python3"
  },
  "language_info": {
   "codemirror_mode": {
    "name": "ipython",
    "version": 3
   },
   "file_extension": ".py",
   "mimetype": "text/x-python",
   "name": "python",
   "nbconvert_exporter": "python",
   "pygments_lexer": "ipython3",
   "version": "3.8.6"
  }
 },
 "nbformat": 4,
 "nbformat_minor": 4
}
